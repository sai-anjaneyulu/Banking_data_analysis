{
 "cells": [
  {
   "cell_type": "code",
   "execution_count": 1,
   "metadata": {},
   "outputs": [],
   "source": [
    "#Author:-ch.v.sai anajneyulu\n",
    "#phone no:-9490840891\n",
    "#mail id:-srisai1915@gmail.com\n",
    "\n",
    "\n",
    "\n",
    "\n",
    "#importing pandas library\n",
    "import pandas as pd\n"
   ]
  },
  {
   "cell_type": "code",
   "execution_count": 2,
   "metadata": {},
   "outputs": [
    {
     "data": {
      "text/html": [
       "<div>\n",
       "<style scoped>\n",
       "    .dataframe tbody tr th:only-of-type {\n",
       "        vertical-align: middle;\n",
       "    }\n",
       "\n",
       "    .dataframe tbody tr th {\n",
       "        vertical-align: top;\n",
       "    }\n",
       "\n",
       "    .dataframe thead th {\n",
       "        text-align: right;\n",
       "    }\n",
       "</style>\n",
       "<table border=\"1\" class=\"dataframe\">\n",
       "  <thead>\n",
       "    <tr style=\"text-align: right;\">\n",
       "      <th></th>\n",
       "      <th>age</th>\n",
       "      <th>job</th>\n",
       "      <th>marital</th>\n",
       "      <th>education</th>\n",
       "      <th>default</th>\n",
       "      <th>housing</th>\n",
       "      <th>loan</th>\n",
       "      <th>contact</th>\n",
       "      <th>month</th>\n",
       "      <th>day_of_week</th>\n",
       "      <th>...</th>\n",
       "      <th>campaign</th>\n",
       "      <th>pdays</th>\n",
       "      <th>previous</th>\n",
       "      <th>poutcome</th>\n",
       "      <th>emp_var_rate</th>\n",
       "      <th>cons_price_idx</th>\n",
       "      <th>cons_conf_idx</th>\n",
       "      <th>euribor3m</th>\n",
       "      <th>nr_employed</th>\n",
       "      <th>y</th>\n",
       "    </tr>\n",
       "  </thead>\n",
       "  <tbody>\n",
       "    <tr>\n",
       "      <th>0</th>\n",
       "      <td>44</td>\n",
       "      <td>blue-collar</td>\n",
       "      <td>married</td>\n",
       "      <td>basic.4y</td>\n",
       "      <td>unknown</td>\n",
       "      <td>yes</td>\n",
       "      <td>no</td>\n",
       "      <td>cellular</td>\n",
       "      <td>aug</td>\n",
       "      <td>thu</td>\n",
       "      <td>...</td>\n",
       "      <td>1</td>\n",
       "      <td>999</td>\n",
       "      <td>0</td>\n",
       "      <td>nonexistent</td>\n",
       "      <td>1.4</td>\n",
       "      <td>93.444</td>\n",
       "      <td>-36.1</td>\n",
       "      <td>4.963</td>\n",
       "      <td>5228.1</td>\n",
       "      <td>0</td>\n",
       "    </tr>\n",
       "    <tr>\n",
       "      <th>1</th>\n",
       "      <td>53</td>\n",
       "      <td>technician</td>\n",
       "      <td>married</td>\n",
       "      <td>unknown</td>\n",
       "      <td>no</td>\n",
       "      <td>no</td>\n",
       "      <td>no</td>\n",
       "      <td>cellular</td>\n",
       "      <td>nov</td>\n",
       "      <td>fri</td>\n",
       "      <td>...</td>\n",
       "      <td>1</td>\n",
       "      <td>999</td>\n",
       "      <td>0</td>\n",
       "      <td>nonexistent</td>\n",
       "      <td>-0.1</td>\n",
       "      <td>93.200</td>\n",
       "      <td>-42.0</td>\n",
       "      <td>4.021</td>\n",
       "      <td>5195.8</td>\n",
       "      <td>0</td>\n",
       "    </tr>\n",
       "    <tr>\n",
       "      <th>2</th>\n",
       "      <td>28</td>\n",
       "      <td>management</td>\n",
       "      <td>single</td>\n",
       "      <td>university.degree</td>\n",
       "      <td>no</td>\n",
       "      <td>yes</td>\n",
       "      <td>no</td>\n",
       "      <td>cellular</td>\n",
       "      <td>jun</td>\n",
       "      <td>thu</td>\n",
       "      <td>...</td>\n",
       "      <td>3</td>\n",
       "      <td>6</td>\n",
       "      <td>2</td>\n",
       "      <td>success</td>\n",
       "      <td>-1.7</td>\n",
       "      <td>94.055</td>\n",
       "      <td>-39.8</td>\n",
       "      <td>0.729</td>\n",
       "      <td>4991.6</td>\n",
       "      <td>1</td>\n",
       "    </tr>\n",
       "    <tr>\n",
       "      <th>3</th>\n",
       "      <td>39</td>\n",
       "      <td>services</td>\n",
       "      <td>married</td>\n",
       "      <td>high.school</td>\n",
       "      <td>no</td>\n",
       "      <td>no</td>\n",
       "      <td>no</td>\n",
       "      <td>cellular</td>\n",
       "      <td>apr</td>\n",
       "      <td>fri</td>\n",
       "      <td>...</td>\n",
       "      <td>2</td>\n",
       "      <td>999</td>\n",
       "      <td>0</td>\n",
       "      <td>nonexistent</td>\n",
       "      <td>-1.8</td>\n",
       "      <td>93.075</td>\n",
       "      <td>-47.1</td>\n",
       "      <td>1.405</td>\n",
       "      <td>5099.1</td>\n",
       "      <td>0</td>\n",
       "    </tr>\n",
       "    <tr>\n",
       "      <th>4</th>\n",
       "      <td>55</td>\n",
       "      <td>retired</td>\n",
       "      <td>married</td>\n",
       "      <td>basic.4y</td>\n",
       "      <td>no</td>\n",
       "      <td>yes</td>\n",
       "      <td>no</td>\n",
       "      <td>cellular</td>\n",
       "      <td>aug</td>\n",
       "      <td>fri</td>\n",
       "      <td>...</td>\n",
       "      <td>1</td>\n",
       "      <td>3</td>\n",
       "      <td>1</td>\n",
       "      <td>success</td>\n",
       "      <td>-2.9</td>\n",
       "      <td>92.201</td>\n",
       "      <td>-31.4</td>\n",
       "      <td>0.869</td>\n",
       "      <td>5076.2</td>\n",
       "      <td>1</td>\n",
       "    </tr>\n",
       "  </tbody>\n",
       "</table>\n",
       "<p>5 rows × 21 columns</p>\n",
       "</div>"
      ],
      "text/plain": [
       "   age          job  marital          education  default housing loan  \\\n",
       "0   44  blue-collar  married           basic.4y  unknown     yes   no   \n",
       "1   53   technician  married            unknown       no      no   no   \n",
       "2   28   management   single  university.degree       no     yes   no   \n",
       "3   39     services  married        high.school       no      no   no   \n",
       "4   55      retired  married           basic.4y       no     yes   no   \n",
       "\n",
       "    contact month day_of_week  ...  campaign  pdays  previous     poutcome  \\\n",
       "0  cellular   aug         thu  ...         1    999         0  nonexistent   \n",
       "1  cellular   nov         fri  ...         1    999         0  nonexistent   \n",
       "2  cellular   jun         thu  ...         3      6         2      success   \n",
       "3  cellular   apr         fri  ...         2    999         0  nonexistent   \n",
       "4  cellular   aug         fri  ...         1      3         1      success   \n",
       "\n",
       "  emp_var_rate  cons_price_idx  cons_conf_idx  euribor3m  nr_employed  y  \n",
       "0          1.4          93.444          -36.1      4.963       5228.1  0  \n",
       "1         -0.1          93.200          -42.0      4.021       5195.8  0  \n",
       "2         -1.7          94.055          -39.8      0.729       4991.6  1  \n",
       "3         -1.8          93.075          -47.1      1.405       5099.1  0  \n",
       "4         -2.9          92.201          -31.4      0.869       5076.2  1  \n",
       "\n",
       "[5 rows x 21 columns]"
      ]
     },
     "execution_count": 2,
     "metadata": {},
     "output_type": "execute_result"
    }
   ],
   "source": [
    "#Reading CSV file using pandas library\n",
    "df = pd.read_csv(r'C:\\Users\\sai venkat\\Downloads\\banking (1).csv')\n",
    "df.head()"
   ]
  },
  {
   "cell_type": "code",
   "execution_count": 3,
   "metadata": {},
   "outputs": [
    {
     "data": {
      "text/plain": [
       "age                 int64\n",
       "job                object\n",
       "marital            object\n",
       "education          object\n",
       "default            object\n",
       "housing            object\n",
       "loan               object\n",
       "contact            object\n",
       "month              object\n",
       "day_of_week        object\n",
       "duration            int64\n",
       "campaign            int64\n",
       "pdays               int64\n",
       "previous            int64\n",
       "poutcome           object\n",
       "emp_var_rate      float64\n",
       "cons_price_idx    float64\n",
       "cons_conf_idx     float64\n",
       "euribor3m         float64\n",
       "nr_employed       float64\n",
       "y                   int64\n",
       "dtype: object"
      ]
     },
     "execution_count": 3,
     "metadata": {},
     "output_type": "execute_result"
    }
   ],
   "source": [
    "#Types of data present int he data set\n",
    "df.dtypes"
   ]
  },
  {
   "cell_type": "code",
   "execution_count": 4,
   "metadata": {},
   "outputs": [
    {
     "data": {
      "text/plain": [
       "(41188, 21)"
      ]
     },
     "execution_count": 4,
     "metadata": {},
     "output_type": "execute_result"
    }
   ],
   "source": [
    "#shape of the dataset(rows,columns)\n",
    "df.shape"
   ]
  },
  {
   "cell_type": "markdown",
   "metadata": {},
   "source": [
    "# DATA CLEANING"
   ]
  },
  {
   "cell_type": "code",
   "execution_count": 5,
   "metadata": {},
   "outputs": [
    {
     "data": {
      "text/plain": [
       "array(['blue-collar', 'technician', 'management', 'services', 'retired',\n",
       "       'admin.', 'housemaid', 'unemployed', 'entrepreneur',\n",
       "       'self-employed', 'unknown', 'student'], dtype=object)"
      ]
     },
     "execution_count": 5,
     "metadata": {},
     "output_type": "execute_result"
    }
   ],
   "source": [
    "#Type of jobs observed  \n",
    "df['job'].unique()"
   ]
  },
  {
   "cell_type": "markdown",
   "metadata": {},
   "source": [
    "# APPLYING LABEL ENCODING"
   ]
  },
  {
   "cell_type": "code",
   "execution_count": 6,
   "metadata": {},
   "outputs": [
    {
     "data": {
      "text/plain": [
       "array([ 1,  9,  4,  7,  5,  0,  3, 10,  2,  6, 11,  8], dtype=int64)"
      ]
     },
     "execution_count": 6,
     "metadata": {},
     "output_type": "execute_result"
    }
   ],
   "source": [
    "#Importing Label Encoding from sklearn preprocessing \n",
    "\n",
    "# label encoding applying on JOB cloumn\n",
    "\n",
    "from sklearn.preprocessing import LabelEncoder\n",
    "\n",
    "label_encoder = LabelEncoder()\n",
    "\n",
    "df['job'] = label_encoder.fit_transform(df['job'])\n",
    "\n",
    "df['job'].unique()"
   ]
  },
  {
   "cell_type": "code",
   "execution_count": 7,
   "metadata": {},
   "outputs": [
    {
     "data": {
      "text/plain": [
       "array(['married', 'single', 'divorced', 'unknown'], dtype=object)"
      ]
     },
     "execution_count": 7,
     "metadata": {},
     "output_type": "execute_result"
    }
   ],
   "source": [
    "df['marital'].unique()"
   ]
  },
  {
   "cell_type": "code",
   "execution_count": 8,
   "metadata": {},
   "outputs": [
    {
     "data": {
      "text/plain": [
       "array([1, 2, 0, 3], dtype=int64)"
      ]
     },
     "execution_count": 8,
     "metadata": {},
     "output_type": "execute_result"
    }
   ],
   "source": [
    "#Importing Label Encoding from sklearn preprocessing\n",
    "\n",
    "#label encoding on marital column\n",
    "label_encoder = LabelEncoder()\n",
    "\n",
    "df['marital'] = label_encoder.fit_transform(df['marital'])\n",
    "\n",
    "df['marital'].unique()"
   ]
  },
  {
   "cell_type": "code",
   "execution_count": 9,
   "metadata": {},
   "outputs": [
    {
     "data": {
      "text/plain": [
       "array([0, 7, 6, 3, 2, 5, 1, 4], dtype=int64)"
      ]
     },
     "execution_count": 9,
     "metadata": {},
     "output_type": "execute_result"
    }
   ],
   "source": [
    "label_encoder = LabelEncoder()\n",
    "\n",
    "df['education'] = label_encoder.fit_transform(df['education'])\n",
    "\n",
    "df['education'].unique()"
   ]
  },
  {
   "cell_type": "code",
   "execution_count": 10,
   "metadata": {},
   "outputs": [
    {
     "data": {
      "text/plain": [
       "array([1, 0, 2], dtype=int64)"
      ]
     },
     "execution_count": 10,
     "metadata": {},
     "output_type": "execute_result"
    }
   ],
   "source": [
    "label_encoder = LabelEncoder()\n",
    "\n",
    "df['default'] = label_encoder.fit_transform(df['default'])\n",
    "\n",
    "df['default'].unique()"
   ]
  },
  {
   "cell_type": "code",
   "execution_count": 11,
   "metadata": {},
   "outputs": [
    {
     "data": {
      "text/plain": [
       "array(['yes', 'no', 'unknown'], dtype=object)"
      ]
     },
     "execution_count": 11,
     "metadata": {},
     "output_type": "execute_result"
    }
   ],
   "source": [
    "df['housing'].unique()"
   ]
  },
  {
   "cell_type": "code",
   "execution_count": 12,
   "metadata": {},
   "outputs": [
    {
     "data": {
      "text/plain": [
       "array([2, 0, 1], dtype=int64)"
      ]
     },
     "execution_count": 12,
     "metadata": {},
     "output_type": "execute_result"
    }
   ],
   "source": [
    "label_encoder = LabelEncoder()\n",
    "\n",
    "df['housing'] = label_encoder.fit_transform(df['housing'])\n",
    "\n",
    "df['housing'].unique()"
   ]
  },
  {
   "cell_type": "code",
   "execution_count": 13,
   "metadata": {},
   "outputs": [
    {
     "data": {
      "text/plain": [
       "array(['no', 'yes', 'unknown'], dtype=object)"
      ]
     },
     "execution_count": 13,
     "metadata": {},
     "output_type": "execute_result"
    }
   ],
   "source": [
    "df['loan'].unique()"
   ]
  },
  {
   "cell_type": "code",
   "execution_count": 14,
   "metadata": {},
   "outputs": [
    {
     "data": {
      "text/plain": [
       "array([0, 2, 1], dtype=int64)"
      ]
     },
     "execution_count": 14,
     "metadata": {},
     "output_type": "execute_result"
    }
   ],
   "source": [
    "label_encoder = LabelEncoder()\n",
    "\n",
    "df['loan'] = label_encoder.fit_transform(df['loan'])\n",
    "\n",
    "df['loan'].unique()"
   ]
  },
  {
   "cell_type": "code",
   "execution_count": 15,
   "metadata": {},
   "outputs": [
    {
     "data": {
      "text/plain": [
       "array(['cellular', 'telephone'], dtype=object)"
      ]
     },
     "execution_count": 15,
     "metadata": {},
     "output_type": "execute_result"
    }
   ],
   "source": [
    "df['contact'].unique()"
   ]
  },
  {
   "cell_type": "code",
   "execution_count": 16,
   "metadata": {},
   "outputs": [
    {
     "data": {
      "text/plain": [
       "array([0, 1], dtype=int64)"
      ]
     },
     "execution_count": 16,
     "metadata": {},
     "output_type": "execute_result"
    }
   ],
   "source": [
    "label_encoder = LabelEncoder()\n",
    "\n",
    "df['contact'] = label_encoder.fit_transform(df['contact'])\n",
    "\n",
    "df['contact'].unique()"
   ]
  },
  {
   "cell_type": "code",
   "execution_count": 17,
   "metadata": {},
   "outputs": [
    {
     "data": {
      "text/plain": [
       "array(['aug', 'nov', 'jun', 'apr', 'jul', 'may', 'oct', 'mar', 'sep',\n",
       "       'dec'], dtype=object)"
      ]
     },
     "execution_count": 17,
     "metadata": {},
     "output_type": "execute_result"
    }
   ],
   "source": [
    "df['month'].unique()"
   ]
  },
  {
   "cell_type": "code",
   "execution_count": 18,
   "metadata": {},
   "outputs": [
    {
     "data": {
      "text/plain": [
       "array([1, 7, 4, 0, 3, 6, 8, 5, 9, 2], dtype=int64)"
      ]
     },
     "execution_count": 18,
     "metadata": {},
     "output_type": "execute_result"
    }
   ],
   "source": [
    "label_encoder = LabelEncoder()\n",
    "\n",
    "df['month'] = label_encoder.fit_transform(df['month'])\n",
    "\n",
    "df['month'].unique()"
   ]
  },
  {
   "cell_type": "code",
   "execution_count": 19,
   "metadata": {},
   "outputs": [
    {
     "data": {
      "text/plain": [
       "array(['thu', 'fri', 'tue', 'mon', 'wed'], dtype=object)"
      ]
     },
     "execution_count": 19,
     "metadata": {},
     "output_type": "execute_result"
    }
   ],
   "source": [
    "df['day_of_week'].unique()"
   ]
  },
  {
   "cell_type": "code",
   "execution_count": 20,
   "metadata": {},
   "outputs": [
    {
     "data": {
      "text/plain": [
       "array([2, 0, 3, 1, 4], dtype=int64)"
      ]
     },
     "execution_count": 20,
     "metadata": {},
     "output_type": "execute_result"
    }
   ],
   "source": [
    "label_encoder = LabelEncoder()\n",
    "\n",
    "df['day_of_week'] = label_encoder.fit_transform(df['day_of_week'])\n",
    "\n",
    "df['day_of_week'].unique()"
   ]
  },
  {
   "cell_type": "code",
   "execution_count": 21,
   "metadata": {},
   "outputs": [
    {
     "data": {
      "text/plain": [
       "array(['nonexistent', 'success', 'failure'], dtype=object)"
      ]
     },
     "execution_count": 21,
     "metadata": {},
     "output_type": "execute_result"
    }
   ],
   "source": [
    "df['poutcome'].unique()"
   ]
  },
  {
   "cell_type": "code",
   "execution_count": 22,
   "metadata": {},
   "outputs": [
    {
     "data": {
      "text/plain": [
       "array([1, 2, 0], dtype=int64)"
      ]
     },
     "execution_count": 22,
     "metadata": {},
     "output_type": "execute_result"
    }
   ],
   "source": [
    "label_encoder = LabelEncoder()\n",
    "\n",
    "df['poutcome'] = label_encoder.fit_transform(df['poutcome'])\n",
    "\n",
    "df['poutcome'].unique()"
   ]
  },
  {
   "cell_type": "markdown",
   "metadata": {},
   "source": [
    "# After cleaning, the view of data set"
   ]
  },
  {
   "cell_type": "code",
   "execution_count": 23,
   "metadata": {},
   "outputs": [
    {
     "data": {
      "text/html": [
       "<div>\n",
       "<style scoped>\n",
       "    .dataframe tbody tr th:only-of-type {\n",
       "        vertical-align: middle;\n",
       "    }\n",
       "\n",
       "    .dataframe tbody tr th {\n",
       "        vertical-align: top;\n",
       "    }\n",
       "\n",
       "    .dataframe thead th {\n",
       "        text-align: right;\n",
       "    }\n",
       "</style>\n",
       "<table border=\"1\" class=\"dataframe\">\n",
       "  <thead>\n",
       "    <tr style=\"text-align: right;\">\n",
       "      <th></th>\n",
       "      <th>age</th>\n",
       "      <th>job</th>\n",
       "      <th>marital</th>\n",
       "      <th>education</th>\n",
       "      <th>default</th>\n",
       "      <th>housing</th>\n",
       "      <th>loan</th>\n",
       "      <th>contact</th>\n",
       "      <th>month</th>\n",
       "      <th>day_of_week</th>\n",
       "      <th>...</th>\n",
       "      <th>campaign</th>\n",
       "      <th>pdays</th>\n",
       "      <th>previous</th>\n",
       "      <th>poutcome</th>\n",
       "      <th>emp_var_rate</th>\n",
       "      <th>cons_price_idx</th>\n",
       "      <th>cons_conf_idx</th>\n",
       "      <th>euribor3m</th>\n",
       "      <th>nr_employed</th>\n",
       "      <th>y</th>\n",
       "    </tr>\n",
       "  </thead>\n",
       "  <tbody>\n",
       "    <tr>\n",
       "      <th>0</th>\n",
       "      <td>44</td>\n",
       "      <td>1</td>\n",
       "      <td>1</td>\n",
       "      <td>0</td>\n",
       "      <td>1</td>\n",
       "      <td>2</td>\n",
       "      <td>0</td>\n",
       "      <td>0</td>\n",
       "      <td>1</td>\n",
       "      <td>2</td>\n",
       "      <td>...</td>\n",
       "      <td>1</td>\n",
       "      <td>999</td>\n",
       "      <td>0</td>\n",
       "      <td>1</td>\n",
       "      <td>1.4</td>\n",
       "      <td>93.444</td>\n",
       "      <td>-36.1</td>\n",
       "      <td>4.963</td>\n",
       "      <td>5228.1</td>\n",
       "      <td>0</td>\n",
       "    </tr>\n",
       "    <tr>\n",
       "      <th>1</th>\n",
       "      <td>53</td>\n",
       "      <td>9</td>\n",
       "      <td>1</td>\n",
       "      <td>7</td>\n",
       "      <td>0</td>\n",
       "      <td>0</td>\n",
       "      <td>0</td>\n",
       "      <td>0</td>\n",
       "      <td>7</td>\n",
       "      <td>0</td>\n",
       "      <td>...</td>\n",
       "      <td>1</td>\n",
       "      <td>999</td>\n",
       "      <td>0</td>\n",
       "      <td>1</td>\n",
       "      <td>-0.1</td>\n",
       "      <td>93.200</td>\n",
       "      <td>-42.0</td>\n",
       "      <td>4.021</td>\n",
       "      <td>5195.8</td>\n",
       "      <td>0</td>\n",
       "    </tr>\n",
       "    <tr>\n",
       "      <th>2</th>\n",
       "      <td>28</td>\n",
       "      <td>4</td>\n",
       "      <td>2</td>\n",
       "      <td>6</td>\n",
       "      <td>0</td>\n",
       "      <td>2</td>\n",
       "      <td>0</td>\n",
       "      <td>0</td>\n",
       "      <td>4</td>\n",
       "      <td>2</td>\n",
       "      <td>...</td>\n",
       "      <td>3</td>\n",
       "      <td>6</td>\n",
       "      <td>2</td>\n",
       "      <td>2</td>\n",
       "      <td>-1.7</td>\n",
       "      <td>94.055</td>\n",
       "      <td>-39.8</td>\n",
       "      <td>0.729</td>\n",
       "      <td>4991.6</td>\n",
       "      <td>1</td>\n",
       "    </tr>\n",
       "    <tr>\n",
       "      <th>3</th>\n",
       "      <td>39</td>\n",
       "      <td>7</td>\n",
       "      <td>1</td>\n",
       "      <td>3</td>\n",
       "      <td>0</td>\n",
       "      <td>0</td>\n",
       "      <td>0</td>\n",
       "      <td>0</td>\n",
       "      <td>0</td>\n",
       "      <td>0</td>\n",
       "      <td>...</td>\n",
       "      <td>2</td>\n",
       "      <td>999</td>\n",
       "      <td>0</td>\n",
       "      <td>1</td>\n",
       "      <td>-1.8</td>\n",
       "      <td>93.075</td>\n",
       "      <td>-47.1</td>\n",
       "      <td>1.405</td>\n",
       "      <td>5099.1</td>\n",
       "      <td>0</td>\n",
       "    </tr>\n",
       "    <tr>\n",
       "      <th>4</th>\n",
       "      <td>55</td>\n",
       "      <td>5</td>\n",
       "      <td>1</td>\n",
       "      <td>0</td>\n",
       "      <td>0</td>\n",
       "      <td>2</td>\n",
       "      <td>0</td>\n",
       "      <td>0</td>\n",
       "      <td>1</td>\n",
       "      <td>0</td>\n",
       "      <td>...</td>\n",
       "      <td>1</td>\n",
       "      <td>3</td>\n",
       "      <td>1</td>\n",
       "      <td>2</td>\n",
       "      <td>-2.9</td>\n",
       "      <td>92.201</td>\n",
       "      <td>-31.4</td>\n",
       "      <td>0.869</td>\n",
       "      <td>5076.2</td>\n",
       "      <td>1</td>\n",
       "    </tr>\n",
       "  </tbody>\n",
       "</table>\n",
       "<p>5 rows × 21 columns</p>\n",
       "</div>"
      ],
      "text/plain": [
       "   age  job  marital  education  default  housing  loan  contact  month  \\\n",
       "0   44    1        1          0        1        2     0        0      1   \n",
       "1   53    9        1          7        0        0     0        0      7   \n",
       "2   28    4        2          6        0        2     0        0      4   \n",
       "3   39    7        1          3        0        0     0        0      0   \n",
       "4   55    5        1          0        0        2     0        0      1   \n",
       "\n",
       "   day_of_week  ...  campaign  pdays  previous  poutcome  emp_var_rate  \\\n",
       "0            2  ...         1    999         0         1           1.4   \n",
       "1            0  ...         1    999         0         1          -0.1   \n",
       "2            2  ...         3      6         2         2          -1.7   \n",
       "3            0  ...         2    999         0         1          -1.8   \n",
       "4            0  ...         1      3         1         2          -2.9   \n",
       "\n",
       "   cons_price_idx  cons_conf_idx  euribor3m  nr_employed  y  \n",
       "0          93.444          -36.1      4.963       5228.1  0  \n",
       "1          93.200          -42.0      4.021       5195.8  0  \n",
       "2          94.055          -39.8      0.729       4991.6  1  \n",
       "3          93.075          -47.1      1.405       5099.1  0  \n",
       "4          92.201          -31.4      0.869       5076.2  1  \n",
       "\n",
       "[5 rows x 21 columns]"
      ]
     },
     "execution_count": 23,
     "metadata": {},
     "output_type": "execute_result"
    }
   ],
   "source": [
    "df.head(5)"
   ]
  },
  {
   "cell_type": "markdown",
   "metadata": {},
   "source": [
    "# correlation check"
   ]
  },
  {
   "cell_type": "code",
   "execution_count": 24,
   "metadata": {},
   "outputs": [
    {
     "data": {
      "text/html": [
       "<div>\n",
       "<style scoped>\n",
       "    .dataframe tbody tr th:only-of-type {\n",
       "        vertical-align: middle;\n",
       "    }\n",
       "\n",
       "    .dataframe tbody tr th {\n",
       "        vertical-align: top;\n",
       "    }\n",
       "\n",
       "    .dataframe thead th {\n",
       "        text-align: right;\n",
       "    }\n",
       "</style>\n",
       "<table border=\"1\" class=\"dataframe\">\n",
       "  <thead>\n",
       "    <tr style=\"text-align: right;\">\n",
       "      <th></th>\n",
       "      <th>age</th>\n",
       "      <th>job</th>\n",
       "      <th>marital</th>\n",
       "      <th>education</th>\n",
       "      <th>default</th>\n",
       "      <th>housing</th>\n",
       "      <th>loan</th>\n",
       "      <th>contact</th>\n",
       "      <th>month</th>\n",
       "      <th>day_of_week</th>\n",
       "      <th>...</th>\n",
       "      <th>campaign</th>\n",
       "      <th>pdays</th>\n",
       "      <th>previous</th>\n",
       "      <th>poutcome</th>\n",
       "      <th>emp_var_rate</th>\n",
       "      <th>cons_price_idx</th>\n",
       "      <th>cons_conf_idx</th>\n",
       "      <th>euribor3m</th>\n",
       "      <th>nr_employed</th>\n",
       "      <th>y</th>\n",
       "    </tr>\n",
       "  </thead>\n",
       "  <tbody>\n",
       "    <tr>\n",
       "      <th>age</th>\n",
       "      <td>1.000000</td>\n",
       "      <td>0.001250</td>\n",
       "      <td>-0.389753</td>\n",
       "      <td>-0.117892</td>\n",
       "      <td>0.164965</td>\n",
       "      <td>-0.001603</td>\n",
       "      <td>-0.007368</td>\n",
       "      <td>0.007021</td>\n",
       "      <td>-0.024877</td>\n",
       "      <td>-0.017572</td>\n",
       "      <td>...</td>\n",
       "      <td>0.004594</td>\n",
       "      <td>-0.034369</td>\n",
       "      <td>0.024365</td>\n",
       "      <td>0.019750</td>\n",
       "      <td>-0.000371</td>\n",
       "      <td>0.000857</td>\n",
       "      <td>0.129372</td>\n",
       "      <td>0.010767</td>\n",
       "      <td>-0.017725</td>\n",
       "      <td>0.030399</td>\n",
       "    </tr>\n",
       "    <tr>\n",
       "      <th>job</th>\n",
       "      <td>0.001250</td>\n",
       "      <td>1.000000</td>\n",
       "      <td>0.027897</td>\n",
       "      <td>0.134121</td>\n",
       "      <td>-0.028277</td>\n",
       "      <td>0.006962</td>\n",
       "      <td>-0.010209</td>\n",
       "      <td>-0.025132</td>\n",
       "      <td>-0.033213</td>\n",
       "      <td>-0.000844</td>\n",
       "      <td>...</td>\n",
       "      <td>-0.006923</td>\n",
       "      <td>-0.028468</td>\n",
       "      <td>0.020965</td>\n",
       "      <td>0.011504</td>\n",
       "      <td>-0.008271</td>\n",
       "      <td>-0.016017</td>\n",
       "      <td>0.052760</td>\n",
       "      <td>-0.007880</td>\n",
       "      <td>-0.019574</td>\n",
       "      <td>0.025122</td>\n",
       "    </tr>\n",
       "    <tr>\n",
       "      <th>marital</th>\n",
       "      <td>-0.389753</td>\n",
       "      <td>0.027897</td>\n",
       "      <td>1.000000</td>\n",
       "      <td>0.109220</td>\n",
       "      <td>-0.079450</td>\n",
       "      <td>0.010467</td>\n",
       "      <td>0.005788</td>\n",
       "      <td>-0.054501</td>\n",
       "      <td>-0.007629</td>\n",
       "      <td>0.002202</td>\n",
       "      <td>...</td>\n",
       "      <td>-0.007240</td>\n",
       "      <td>-0.037942</td>\n",
       "      <td>0.038689</td>\n",
       "      <td>0.001912</td>\n",
       "      <td>-0.084210</td>\n",
       "      <td>-0.057477</td>\n",
       "      <td>-0.033783</td>\n",
       "      <td>-0.091939</td>\n",
       "      <td>-0.086199</td>\n",
       "      <td>0.046203</td>\n",
       "    </tr>\n",
       "    <tr>\n",
       "      <th>education</th>\n",
       "      <td>-0.117892</td>\n",
       "      <td>0.134121</td>\n",
       "      <td>0.109220</td>\n",
       "      <td>1.000000</td>\n",
       "      <td>-0.186859</td>\n",
       "      <td>0.016825</td>\n",
       "      <td>0.006384</td>\n",
       "      <td>-0.105726</td>\n",
       "      <td>-0.082684</td>\n",
       "      <td>-0.017986</td>\n",
       "      <td>...</td>\n",
       "      <td>0.000371</td>\n",
       "      <td>-0.046626</td>\n",
       "      <td>0.038831</td>\n",
       "      <td>0.017009</td>\n",
       "      <td>-0.043778</td>\n",
       "      <td>-0.081607</td>\n",
       "      <td>0.078799</td>\n",
       "      <td>-0.036380</td>\n",
       "      <td>-0.041492</td>\n",
       "      <td>0.057799</td>\n",
       "    </tr>\n",
       "    <tr>\n",
       "      <th>default</th>\n",
       "      <td>0.164965</td>\n",
       "      <td>-0.028277</td>\n",
       "      <td>-0.079450</td>\n",
       "      <td>-0.186859</td>\n",
       "      <td>1.000000</td>\n",
       "      <td>-0.015815</td>\n",
       "      <td>-0.003782</td>\n",
       "      <td>0.135238</td>\n",
       "      <td>-0.015830</td>\n",
       "      <td>-0.008701</td>\n",
       "      <td>...</td>\n",
       "      <td>0.032825</td>\n",
       "      <td>0.080062</td>\n",
       "      <td>-0.102416</td>\n",
       "      <td>0.023417</td>\n",
       "      <td>0.203263</td>\n",
       "      <td>0.168073</td>\n",
       "      <td>0.026522</td>\n",
       "      <td>0.195336</td>\n",
       "      <td>0.189845</td>\n",
       "      <td>-0.099352</td>\n",
       "    </tr>\n",
       "    <tr>\n",
       "      <th>housing</th>\n",
       "      <td>-0.001603</td>\n",
       "      <td>0.006962</td>\n",
       "      <td>0.010467</td>\n",
       "      <td>0.016825</td>\n",
       "      <td>-0.015815</td>\n",
       "      <td>1.000000</td>\n",
       "      <td>0.044296</td>\n",
       "      <td>-0.082186</td>\n",
       "      <td>-0.018141</td>\n",
       "      <td>0.003339</td>\n",
       "      <td>...</td>\n",
       "      <td>-0.011010</td>\n",
       "      <td>-0.010551</td>\n",
       "      <td>0.021314</td>\n",
       "      <td>-0.011783</td>\n",
       "      <td>-0.060196</td>\n",
       "      <td>-0.080504</td>\n",
       "      <td>-0.033845</td>\n",
       "      <td>-0.059277</td>\n",
       "      <td>-0.045862</td>\n",
       "      <td>0.011552</td>\n",
       "    </tr>\n",
       "    <tr>\n",
       "      <th>loan</th>\n",
       "      <td>-0.007368</td>\n",
       "      <td>-0.010209</td>\n",
       "      <td>0.005788</td>\n",
       "      <td>0.006384</td>\n",
       "      <td>-0.003782</td>\n",
       "      <td>0.044296</td>\n",
       "      <td>1.000000</td>\n",
       "      <td>-0.008556</td>\n",
       "      <td>-0.005705</td>\n",
       "      <td>-0.009344</td>\n",
       "      <td>...</td>\n",
       "      <td>0.005166</td>\n",
       "      <td>0.000345</td>\n",
       "      <td>-0.001327</td>\n",
       "      <td>-0.001511</td>\n",
       "      <td>0.001849</td>\n",
       "      <td>-0.002430</td>\n",
       "      <td>-0.012025</td>\n",
       "      <td>0.000125</td>\n",
       "      <td>0.003903</td>\n",
       "      <td>-0.004909</td>\n",
       "    </tr>\n",
       "    <tr>\n",
       "      <th>contact</th>\n",
       "      <td>0.007021</td>\n",
       "      <td>-0.025132</td>\n",
       "      <td>-0.054501</td>\n",
       "      <td>-0.105726</td>\n",
       "      <td>0.135238</td>\n",
       "      <td>-0.082186</td>\n",
       "      <td>-0.008556</td>\n",
       "      <td>1.000000</td>\n",
       "      <td>0.276565</td>\n",
       "      <td>-0.009575</td>\n",
       "      <td>...</td>\n",
       "      <td>0.077368</td>\n",
       "      <td>0.117970</td>\n",
       "      <td>-0.212848</td>\n",
       "      <td>0.118744</td>\n",
       "      <td>0.393584</td>\n",
       "      <td>0.591474</td>\n",
       "      <td>0.251614</td>\n",
       "      <td>0.399773</td>\n",
       "      <td>0.269155</td>\n",
       "      <td>-0.144773</td>\n",
       "    </tr>\n",
       "    <tr>\n",
       "      <th>month</th>\n",
       "      <td>-0.024877</td>\n",
       "      <td>-0.033213</td>\n",
       "      <td>-0.007629</td>\n",
       "      <td>-0.082684</td>\n",
       "      <td>-0.015830</td>\n",
       "      <td>-0.018141</td>\n",
       "      <td>-0.005705</td>\n",
       "      <td>0.276565</td>\n",
       "      <td>1.000000</td>\n",
       "      <td>0.027677</td>\n",
       "      <td>...</td>\n",
       "      <td>-0.062059</td>\n",
       "      <td>-0.047891</td>\n",
       "      <td>0.103157</td>\n",
       "      <td>-0.065012</td>\n",
       "      <td>-0.178782</td>\n",
       "      <td>-0.004239</td>\n",
       "      <td>0.009652</td>\n",
       "      <td>-0.117264</td>\n",
       "      <td>-0.221425</td>\n",
       "      <td>-0.006065</td>\n",
       "    </tr>\n",
       "    <tr>\n",
       "      <th>day_of_week</th>\n",
       "      <td>-0.017572</td>\n",
       "      <td>-0.000844</td>\n",
       "      <td>0.002202</td>\n",
       "      <td>-0.017986</td>\n",
       "      <td>-0.008701</td>\n",
       "      <td>0.003339</td>\n",
       "      <td>-0.009344</td>\n",
       "      <td>-0.009575</td>\n",
       "      <td>0.027677</td>\n",
       "      <td>1.000000</td>\n",
       "      <td>...</td>\n",
       "      <td>-0.038288</td>\n",
       "      <td>-0.009531</td>\n",
       "      <td>-0.004102</td>\n",
       "      <td>0.018732</td>\n",
       "      <td>0.033245</td>\n",
       "      <td>0.005644</td>\n",
       "      <td>0.041465</td>\n",
       "      <td>0.039043</td>\n",
       "      <td>0.028380</td>\n",
       "      <td>0.015967</td>\n",
       "    </tr>\n",
       "    <tr>\n",
       "      <th>duration</th>\n",
       "      <td>-0.000866</td>\n",
       "      <td>-0.006490</td>\n",
       "      <td>0.010290</td>\n",
       "      <td>-0.015102</td>\n",
       "      <td>-0.011794</td>\n",
       "      <td>-0.007658</td>\n",
       "      <td>-0.000916</td>\n",
       "      <td>-0.026657</td>\n",
       "      <td>0.003690</td>\n",
       "      <td>0.021950</td>\n",
       "      <td>...</td>\n",
       "      <td>-0.071699</td>\n",
       "      <td>-0.047577</td>\n",
       "      <td>0.020640</td>\n",
       "      <td>0.033360</td>\n",
       "      <td>-0.027968</td>\n",
       "      <td>0.005312</td>\n",
       "      <td>-0.008173</td>\n",
       "      <td>-0.032897</td>\n",
       "      <td>-0.044703</td>\n",
       "      <td>0.405274</td>\n",
       "    </tr>\n",
       "    <tr>\n",
       "      <th>campaign</th>\n",
       "      <td>0.004594</td>\n",
       "      <td>-0.006923</td>\n",
       "      <td>-0.007240</td>\n",
       "      <td>0.000371</td>\n",
       "      <td>0.032825</td>\n",
       "      <td>-0.011010</td>\n",
       "      <td>0.005166</td>\n",
       "      <td>0.077368</td>\n",
       "      <td>-0.062059</td>\n",
       "      <td>-0.038288</td>\n",
       "      <td>...</td>\n",
       "      <td>1.000000</td>\n",
       "      <td>0.052584</td>\n",
       "      <td>-0.079141</td>\n",
       "      <td>0.032586</td>\n",
       "      <td>0.150754</td>\n",
       "      <td>0.127836</td>\n",
       "      <td>-0.013733</td>\n",
       "      <td>0.135133</td>\n",
       "      <td>0.144095</td>\n",
       "      <td>-0.066357</td>\n",
       "    </tr>\n",
       "    <tr>\n",
       "      <th>pdays</th>\n",
       "      <td>-0.034369</td>\n",
       "      <td>-0.028468</td>\n",
       "      <td>-0.037942</td>\n",
       "      <td>-0.046626</td>\n",
       "      <td>0.080062</td>\n",
       "      <td>-0.010551</td>\n",
       "      <td>0.000345</td>\n",
       "      <td>0.117970</td>\n",
       "      <td>-0.047891</td>\n",
       "      <td>-0.009531</td>\n",
       "      <td>...</td>\n",
       "      <td>0.052584</td>\n",
       "      <td>1.000000</td>\n",
       "      <td>-0.587514</td>\n",
       "      <td>-0.475619</td>\n",
       "      <td>0.271004</td>\n",
       "      <td>0.078889</td>\n",
       "      <td>-0.091342</td>\n",
       "      <td>0.296899</td>\n",
       "      <td>0.372605</td>\n",
       "      <td>-0.324914</td>\n",
       "    </tr>\n",
       "    <tr>\n",
       "      <th>previous</th>\n",
       "      <td>0.024365</td>\n",
       "      <td>0.020965</td>\n",
       "      <td>0.038689</td>\n",
       "      <td>0.038831</td>\n",
       "      <td>-0.102416</td>\n",
       "      <td>0.021314</td>\n",
       "      <td>-0.001327</td>\n",
       "      <td>-0.212848</td>\n",
       "      <td>0.103157</td>\n",
       "      <td>-0.004102</td>\n",
       "      <td>...</td>\n",
       "      <td>-0.079141</td>\n",
       "      <td>-0.587514</td>\n",
       "      <td>1.000000</td>\n",
       "      <td>-0.313110</td>\n",
       "      <td>-0.420489</td>\n",
       "      <td>-0.203130</td>\n",
       "      <td>-0.050936</td>\n",
       "      <td>-0.454494</td>\n",
       "      <td>-0.501333</td>\n",
       "      <td>0.230181</td>\n",
       "    </tr>\n",
       "    <tr>\n",
       "      <th>poutcome</th>\n",
       "      <td>0.019750</td>\n",
       "      <td>0.011504</td>\n",
       "      <td>0.001912</td>\n",
       "      <td>0.017009</td>\n",
       "      <td>0.023417</td>\n",
       "      <td>-0.011783</td>\n",
       "      <td>-0.001511</td>\n",
       "      <td>0.118744</td>\n",
       "      <td>-0.065012</td>\n",
       "      <td>0.018732</td>\n",
       "      <td>...</td>\n",
       "      <td>0.032586</td>\n",
       "      <td>-0.475619</td>\n",
       "      <td>-0.313110</td>\n",
       "      <td>1.000000</td>\n",
       "      <td>0.192972</td>\n",
       "      <td>0.211330</td>\n",
       "      <td>0.178289</td>\n",
       "      <td>0.184144</td>\n",
       "      <td>0.119689</td>\n",
       "      <td>0.129789</td>\n",
       "    </tr>\n",
       "    <tr>\n",
       "      <th>emp_var_rate</th>\n",
       "      <td>-0.000371</td>\n",
       "      <td>-0.008271</td>\n",
       "      <td>-0.084210</td>\n",
       "      <td>-0.043778</td>\n",
       "      <td>0.203263</td>\n",
       "      <td>-0.060196</td>\n",
       "      <td>0.001849</td>\n",
       "      <td>0.393584</td>\n",
       "      <td>-0.178782</td>\n",
       "      <td>0.033245</td>\n",
       "      <td>...</td>\n",
       "      <td>0.150754</td>\n",
       "      <td>0.271004</td>\n",
       "      <td>-0.420489</td>\n",
       "      <td>0.192972</td>\n",
       "      <td>1.000000</td>\n",
       "      <td>0.775334</td>\n",
       "      <td>0.196041</td>\n",
       "      <td>0.972245</td>\n",
       "      <td>0.906970</td>\n",
       "      <td>-0.298334</td>\n",
       "    </tr>\n",
       "    <tr>\n",
       "      <th>cons_price_idx</th>\n",
       "      <td>0.000857</td>\n",
       "      <td>-0.016017</td>\n",
       "      <td>-0.057477</td>\n",
       "      <td>-0.081607</td>\n",
       "      <td>0.168073</td>\n",
       "      <td>-0.080504</td>\n",
       "      <td>-0.002430</td>\n",
       "      <td>0.591474</td>\n",
       "      <td>-0.004239</td>\n",
       "      <td>0.005644</td>\n",
       "      <td>...</td>\n",
       "      <td>0.127836</td>\n",
       "      <td>0.078889</td>\n",
       "      <td>-0.203130</td>\n",
       "      <td>0.211330</td>\n",
       "      <td>0.775334</td>\n",
       "      <td>1.000000</td>\n",
       "      <td>0.058986</td>\n",
       "      <td>0.688230</td>\n",
       "      <td>0.522034</td>\n",
       "      <td>-0.136211</td>\n",
       "    </tr>\n",
       "    <tr>\n",
       "      <th>cons_conf_idx</th>\n",
       "      <td>0.129372</td>\n",
       "      <td>0.052760</td>\n",
       "      <td>-0.033783</td>\n",
       "      <td>0.078799</td>\n",
       "      <td>0.026522</td>\n",
       "      <td>-0.033845</td>\n",
       "      <td>-0.012025</td>\n",
       "      <td>0.251614</td>\n",
       "      <td>0.009652</td>\n",
       "      <td>0.041465</td>\n",
       "      <td>...</td>\n",
       "      <td>-0.013733</td>\n",
       "      <td>-0.091342</td>\n",
       "      <td>-0.050936</td>\n",
       "      <td>0.178289</td>\n",
       "      <td>0.196041</td>\n",
       "      <td>0.058986</td>\n",
       "      <td>1.000000</td>\n",
       "      <td>0.277686</td>\n",
       "      <td>0.100513</td>\n",
       "      <td>0.054878</td>\n",
       "    </tr>\n",
       "    <tr>\n",
       "      <th>euribor3m</th>\n",
       "      <td>0.010767</td>\n",
       "      <td>-0.007880</td>\n",
       "      <td>-0.091939</td>\n",
       "      <td>-0.036380</td>\n",
       "      <td>0.195336</td>\n",
       "      <td>-0.059277</td>\n",
       "      <td>0.000125</td>\n",
       "      <td>0.399773</td>\n",
       "      <td>-0.117264</td>\n",
       "      <td>0.039043</td>\n",
       "      <td>...</td>\n",
       "      <td>0.135133</td>\n",
       "      <td>0.296899</td>\n",
       "      <td>-0.454494</td>\n",
       "      <td>0.184144</td>\n",
       "      <td>0.972245</td>\n",
       "      <td>0.688230</td>\n",
       "      <td>0.277686</td>\n",
       "      <td>1.000000</td>\n",
       "      <td>0.945154</td>\n",
       "      <td>-0.307771</td>\n",
       "    </tr>\n",
       "    <tr>\n",
       "      <th>nr_employed</th>\n",
       "      <td>-0.017725</td>\n",
       "      <td>-0.019574</td>\n",
       "      <td>-0.086199</td>\n",
       "      <td>-0.041492</td>\n",
       "      <td>0.189845</td>\n",
       "      <td>-0.045862</td>\n",
       "      <td>0.003903</td>\n",
       "      <td>0.269155</td>\n",
       "      <td>-0.221425</td>\n",
       "      <td>0.028380</td>\n",
       "      <td>...</td>\n",
       "      <td>0.144095</td>\n",
       "      <td>0.372605</td>\n",
       "      <td>-0.501333</td>\n",
       "      <td>0.119689</td>\n",
       "      <td>0.906970</td>\n",
       "      <td>0.522034</td>\n",
       "      <td>0.100513</td>\n",
       "      <td>0.945154</td>\n",
       "      <td>1.000000</td>\n",
       "      <td>-0.354678</td>\n",
       "    </tr>\n",
       "    <tr>\n",
       "      <th>y</th>\n",
       "      <td>0.030399</td>\n",
       "      <td>0.025122</td>\n",
       "      <td>0.046203</td>\n",
       "      <td>0.057799</td>\n",
       "      <td>-0.099352</td>\n",
       "      <td>0.011552</td>\n",
       "      <td>-0.004909</td>\n",
       "      <td>-0.144773</td>\n",
       "      <td>-0.006065</td>\n",
       "      <td>0.015967</td>\n",
       "      <td>...</td>\n",
       "      <td>-0.066357</td>\n",
       "      <td>-0.324914</td>\n",
       "      <td>0.230181</td>\n",
       "      <td>0.129789</td>\n",
       "      <td>-0.298334</td>\n",
       "      <td>-0.136211</td>\n",
       "      <td>0.054878</td>\n",
       "      <td>-0.307771</td>\n",
       "      <td>-0.354678</td>\n",
       "      <td>1.000000</td>\n",
       "    </tr>\n",
       "  </tbody>\n",
       "</table>\n",
       "<p>21 rows × 21 columns</p>\n",
       "</div>"
      ],
      "text/plain": [
       "                     age       job   marital  education   default   housing  \\\n",
       "age             1.000000  0.001250 -0.389753  -0.117892  0.164965 -0.001603   \n",
       "job             0.001250  1.000000  0.027897   0.134121 -0.028277  0.006962   \n",
       "marital        -0.389753  0.027897  1.000000   0.109220 -0.079450  0.010467   \n",
       "education      -0.117892  0.134121  0.109220   1.000000 -0.186859  0.016825   \n",
       "default         0.164965 -0.028277 -0.079450  -0.186859  1.000000 -0.015815   \n",
       "housing        -0.001603  0.006962  0.010467   0.016825 -0.015815  1.000000   \n",
       "loan           -0.007368 -0.010209  0.005788   0.006384 -0.003782  0.044296   \n",
       "contact         0.007021 -0.025132 -0.054501  -0.105726  0.135238 -0.082186   \n",
       "month          -0.024877 -0.033213 -0.007629  -0.082684 -0.015830 -0.018141   \n",
       "day_of_week    -0.017572 -0.000844  0.002202  -0.017986 -0.008701  0.003339   \n",
       "duration       -0.000866 -0.006490  0.010290  -0.015102 -0.011794 -0.007658   \n",
       "campaign        0.004594 -0.006923 -0.007240   0.000371  0.032825 -0.011010   \n",
       "pdays          -0.034369 -0.028468 -0.037942  -0.046626  0.080062 -0.010551   \n",
       "previous        0.024365  0.020965  0.038689   0.038831 -0.102416  0.021314   \n",
       "poutcome        0.019750  0.011504  0.001912   0.017009  0.023417 -0.011783   \n",
       "emp_var_rate   -0.000371 -0.008271 -0.084210  -0.043778  0.203263 -0.060196   \n",
       "cons_price_idx  0.000857 -0.016017 -0.057477  -0.081607  0.168073 -0.080504   \n",
       "cons_conf_idx   0.129372  0.052760 -0.033783   0.078799  0.026522 -0.033845   \n",
       "euribor3m       0.010767 -0.007880 -0.091939  -0.036380  0.195336 -0.059277   \n",
       "nr_employed    -0.017725 -0.019574 -0.086199  -0.041492  0.189845 -0.045862   \n",
       "y               0.030399  0.025122  0.046203   0.057799 -0.099352  0.011552   \n",
       "\n",
       "                    loan   contact     month  day_of_week  ...  campaign  \\\n",
       "age            -0.007368  0.007021 -0.024877    -0.017572  ...  0.004594   \n",
       "job            -0.010209 -0.025132 -0.033213    -0.000844  ... -0.006923   \n",
       "marital         0.005788 -0.054501 -0.007629     0.002202  ... -0.007240   \n",
       "education       0.006384 -0.105726 -0.082684    -0.017986  ...  0.000371   \n",
       "default        -0.003782  0.135238 -0.015830    -0.008701  ...  0.032825   \n",
       "housing         0.044296 -0.082186 -0.018141     0.003339  ... -0.011010   \n",
       "loan            1.000000 -0.008556 -0.005705    -0.009344  ...  0.005166   \n",
       "contact        -0.008556  1.000000  0.276565    -0.009575  ...  0.077368   \n",
       "month          -0.005705  0.276565  1.000000     0.027677  ... -0.062059   \n",
       "day_of_week    -0.009344 -0.009575  0.027677     1.000000  ... -0.038288   \n",
       "duration       -0.000916 -0.026657  0.003690     0.021950  ... -0.071699   \n",
       "campaign        0.005166  0.077368 -0.062059    -0.038288  ...  1.000000   \n",
       "pdays           0.000345  0.117970 -0.047891    -0.009531  ...  0.052584   \n",
       "previous       -0.001327 -0.212848  0.103157    -0.004102  ... -0.079141   \n",
       "poutcome       -0.001511  0.118744 -0.065012     0.018732  ...  0.032586   \n",
       "emp_var_rate    0.001849  0.393584 -0.178782     0.033245  ...  0.150754   \n",
       "cons_price_idx -0.002430  0.591474 -0.004239     0.005644  ...  0.127836   \n",
       "cons_conf_idx  -0.012025  0.251614  0.009652     0.041465  ... -0.013733   \n",
       "euribor3m       0.000125  0.399773 -0.117264     0.039043  ...  0.135133   \n",
       "nr_employed     0.003903  0.269155 -0.221425     0.028380  ...  0.144095   \n",
       "y              -0.004909 -0.144773 -0.006065     0.015967  ... -0.066357   \n",
       "\n",
       "                   pdays  previous  poutcome  emp_var_rate  cons_price_idx  \\\n",
       "age            -0.034369  0.024365  0.019750     -0.000371        0.000857   \n",
       "job            -0.028468  0.020965  0.011504     -0.008271       -0.016017   \n",
       "marital        -0.037942  0.038689  0.001912     -0.084210       -0.057477   \n",
       "education      -0.046626  0.038831  0.017009     -0.043778       -0.081607   \n",
       "default         0.080062 -0.102416  0.023417      0.203263        0.168073   \n",
       "housing        -0.010551  0.021314 -0.011783     -0.060196       -0.080504   \n",
       "loan            0.000345 -0.001327 -0.001511      0.001849       -0.002430   \n",
       "contact         0.117970 -0.212848  0.118744      0.393584        0.591474   \n",
       "month          -0.047891  0.103157 -0.065012     -0.178782       -0.004239   \n",
       "day_of_week    -0.009531 -0.004102  0.018732      0.033245        0.005644   \n",
       "duration       -0.047577  0.020640  0.033360     -0.027968        0.005312   \n",
       "campaign        0.052584 -0.079141  0.032586      0.150754        0.127836   \n",
       "pdays           1.000000 -0.587514 -0.475619      0.271004        0.078889   \n",
       "previous       -0.587514  1.000000 -0.313110     -0.420489       -0.203130   \n",
       "poutcome       -0.475619 -0.313110  1.000000      0.192972        0.211330   \n",
       "emp_var_rate    0.271004 -0.420489  0.192972      1.000000        0.775334   \n",
       "cons_price_idx  0.078889 -0.203130  0.211330      0.775334        1.000000   \n",
       "cons_conf_idx  -0.091342 -0.050936  0.178289      0.196041        0.058986   \n",
       "euribor3m       0.296899 -0.454494  0.184144      0.972245        0.688230   \n",
       "nr_employed     0.372605 -0.501333  0.119689      0.906970        0.522034   \n",
       "y              -0.324914  0.230181  0.129789     -0.298334       -0.136211   \n",
       "\n",
       "                cons_conf_idx  euribor3m  nr_employed         y  \n",
       "age                  0.129372   0.010767    -0.017725  0.030399  \n",
       "job                  0.052760  -0.007880    -0.019574  0.025122  \n",
       "marital             -0.033783  -0.091939    -0.086199  0.046203  \n",
       "education            0.078799  -0.036380    -0.041492  0.057799  \n",
       "default              0.026522   0.195336     0.189845 -0.099352  \n",
       "housing             -0.033845  -0.059277    -0.045862  0.011552  \n",
       "loan                -0.012025   0.000125     0.003903 -0.004909  \n",
       "contact              0.251614   0.399773     0.269155 -0.144773  \n",
       "month                0.009652  -0.117264    -0.221425 -0.006065  \n",
       "day_of_week          0.041465   0.039043     0.028380  0.015967  \n",
       "duration            -0.008173  -0.032897    -0.044703  0.405274  \n",
       "campaign            -0.013733   0.135133     0.144095 -0.066357  \n",
       "pdays               -0.091342   0.296899     0.372605 -0.324914  \n",
       "previous            -0.050936  -0.454494    -0.501333  0.230181  \n",
       "poutcome             0.178289   0.184144     0.119689  0.129789  \n",
       "emp_var_rate         0.196041   0.972245     0.906970 -0.298334  \n",
       "cons_price_idx       0.058986   0.688230     0.522034 -0.136211  \n",
       "cons_conf_idx        1.000000   0.277686     0.100513  0.054878  \n",
       "euribor3m            0.277686   1.000000     0.945154 -0.307771  \n",
       "nr_employed          0.100513   0.945154     1.000000 -0.354678  \n",
       "y                    0.054878  -0.307771    -0.354678  1.000000  \n",
       "\n",
       "[21 rows x 21 columns]"
      ]
     },
     "execution_count": 24,
     "metadata": {},
     "output_type": "execute_result"
    }
   ],
   "source": [
    "\n",
    "\n",
    "df.corr()"
   ]
  },
  {
   "cell_type": "markdown",
   "metadata": {},
   "source": [
    "# NULL VALUE CHECK"
   ]
  },
  {
   "cell_type": "code",
   "execution_count": 36,
   "metadata": {},
   "outputs": [
    {
     "data": {
      "text/plain": [
       "age               False\n",
       "job               False\n",
       "marital           False\n",
       "education         False\n",
       "default           False\n",
       "housing           False\n",
       "loan              False\n",
       "contact           False\n",
       "month             False\n",
       "day_of_week       False\n",
       "duration          False\n",
       "campaign          False\n",
       "pdays             False\n",
       "previous          False\n",
       "poutcome          False\n",
       "emp_var_rate      False\n",
       "cons_price_idx    False\n",
       "cons_conf_idx     False\n",
       "euribor3m         False\n",
       "nr_employed       False\n",
       "y                 False\n",
       "dtype: bool"
      ]
     },
     "execution_count": 36,
     "metadata": {},
     "output_type": "execute_result"
    }
   ],
   "source": [
    "#null value check\n",
    "df.isnull().any()"
   ]
  },
  {
   "cell_type": "markdown",
   "metadata": {},
   "source": [
    "# DATA VISUALIZATION"
   ]
  },
  {
   "cell_type": "code",
   "execution_count": 34,
   "metadata": {},
   "outputs": [
    {
     "data": {
      "text/plain": [
       "<matplotlib.axes._subplots.AxesSubplot at 0xdba7b3da20>"
      ]
     },
     "execution_count": 34,
     "metadata": {},
     "output_type": "execute_result"
    },
    {
     "data": {
      "image/png": "[encoded data removed]",
      "text/plain": [
       "<Figure size 432x288 with 2 Axes>"
      ]
     },
     "metadata": {
      "needs_background": "light"
     },
     "output_type": "display_data"
    }
   ],
   "source": [
    "#Importing seaborn Library for data visualiation\n",
    " \n",
    "#correlation check using seaborn library    \n",
    "\n",
    "import seaborn as sns\n",
    "sns.heatmap(df.corr())"
   ]
  },
  {
   "cell_type": "markdown",
   "metadata": {},
   "source": [
    "# APPLYING RANDOM FOREST "
   ]
  },
  {
   "cell_type": "code",
   "execution_count": 26,
   "metadata": {},
   "outputs": [],
   "source": [
    "# y is target variable\n",
    "X = df.drop(['y'],axis=1)\n",
    "y = df[['y']]"
   ]
  },
  {
   "cell_type": "code",
   "execution_count": 27,
   "metadata": {},
   "outputs": [],
   "source": [
    "from sklearn.model_selection import train_test_split\n",
    "X_train,X_test,y_train,y_test = train_test_split(X,y,test_size=0.2,random_state=1)"
   ]
  },
  {
   "cell_type": "code",
   "execution_count": 28,
   "metadata": {},
   "outputs": [
    {
     "name": "stderr",
     "output_type": "stream",
     "text": [
      "C:\\anacondapy\\lib\\site-packages\\sklearn\\ensemble\\forest.py:246: FutureWarning: The default value of n_estimators will change from 10 in version 0.20 to 100 in 0.22.\n",
      "  \"10 in version 0.20 to 100 in 0.22.\", FutureWarning)\n",
      "C:\\anacondapy\\lib\\site-packages\\ipykernel_launcher.py:5: DataConversionWarning: A column-vector y was passed when a 1d array was expected. Please change the shape of y to (n_samples,), for example using ravel().\n",
      "  \"\"\"\n"
     ]
    },
    {
     "data": {
      "text/plain": [
       "RandomForestClassifier(bootstrap=True, class_weight=None, criterion='gini',\n",
       "            max_depth=None, max_features='auto', max_leaf_nodes=None,\n",
       "            min_impurity_decrease=0.0, min_impurity_split=None,\n",
       "            min_samples_leaf=1, min_samples_split=2,\n",
       "            min_weight_fraction_leaf=0.0, n_estimators=10, n_jobs=None,\n",
       "            oob_score=False, random_state=None, verbose=0,\n",
       "            warm_start=False)"
      ]
     },
     "execution_count": 28,
     "metadata": {},
     "output_type": "execute_result"
    }
   ],
   "source": [
    "from sklearn.ensemble import RandomForestClassifier\n",
    "\n",
    "clf = RandomForestClassifier()\n",
    "\n",
    "clf.fit(X_train,y_train)"
   ]
  },
  {
   "cell_type": "code",
   "execution_count": 29,
   "metadata": {},
   "outputs": [],
   "source": [
    "y_pred = clf.predict(X_test)"
   ]
  },
  {
   "cell_type": "code",
   "execution_count": 30,
   "metadata": {},
   "outputs": [
    {
     "name": "stdout",
     "output_type": "stream",
     "text": [
      "0.9101723719349356\n",
      "              precision    recall  f1-score   support\n",
      "\n",
      "           0       0.97      0.93      0.95      7615\n",
      "           1       0.44      0.66      0.53       623\n",
      "\n",
      "   micro avg       0.91      0.91      0.91      8238\n",
      "   macro avg       0.70      0.79      0.74      8238\n",
      "weighted avg       0.93      0.91      0.92      8238\n",
      "\n",
      "[[7088  527]\n",
      " [ 213  410]]\n"
     ]
    }
   ],
   "source": [
    "from sklearn.metrics import accuracy_score,classification_report,confusion_matrix\n",
    "\n",
    "print(accuracy_score(y_pred,y_test))\n",
    "\n",
    "\n",
    "print(classification_report(y_pred,y_test))\n",
    "\n",
    "\n",
    "\n",
    "print(confusion_matrix(y_pred,y_test))"
   ]
  },
  {
   "cell_type": "markdown",
   "metadata": {},
   "source": [
    "# SIMPLE LOGISTIC REGRESSION"
   ]
  },
  {
   "cell_type": "code",
   "execution_count": 31,
   "metadata": {},
   "outputs": [
    {
     "name": "stderr",
     "output_type": "stream",
     "text": [
      "C:\\anacondapy\\lib\\site-packages\\sklearn\\linear_model\\logistic.py:433: FutureWarning: Default solver will be changed to 'lbfgs' in 0.22. Specify a solver to silence this warning.\n",
      "  FutureWarning)\n",
      "C:\\anacondapy\\lib\\site-packages\\sklearn\\utils\\validation.py:761: DataConversionWarning: A column-vector y was passed when a 1d array was expected. Please change the shape of y to (n_samples, ), for example using ravel().\n",
      "  y = column_or_1d(y, warn=True)\n"
     ]
    },
    {
     "name": "stdout",
     "output_type": "stream",
     "text": [
      "0.9088370963826171\n",
      "              precision    recall  f1-score   support\n",
      "\n",
      "           0       0.97      0.93      0.95      7676\n",
      "           1       0.40      0.67      0.50       562\n",
      "\n",
      "   micro avg       0.91      0.91      0.91      8238\n",
      "   macro avg       0.69      0.80      0.72      8238\n",
      "weighted avg       0.94      0.91      0.92      8238\n",
      "\n",
      "[[7113  563]\n",
      " [ 188  374]]\n"
     ]
    }
   ],
   "source": [
    "from sklearn.linear_model import LogisticRegression\n",
    "\n",
    "model = LogisticRegression()\n",
    "\n",
    "model.fit(X_train,y_train)\n",
    "\n",
    "y_pred = model.predict(X_test)\n",
    "\n",
    "print(accuracy_score(y_pred,y_test))\n",
    "\n",
    "\n",
    "print(classification_report(y_pred,y_test))\n",
    "\n",
    "\n",
    "\n",
    "print(confusion_matrix(y_pred,y_test))\n",
    "\n",
    "\n"
   ]
  },
  {
   "cell_type": "markdown",
   "metadata": {},
   "source": [
    "# DECISON TREE CLASSIFIER"
   ]
  },
  {
   "cell_type": "code",
   "execution_count": 32,
   "metadata": {},
   "outputs": [
    {
     "name": "stdout",
     "output_type": "stream",
     "text": [
      "0.8895362952172857\n",
      "              precision    recall  f1-score   support\n",
      "\n",
      "           0       0.94      0.94      0.94      7307\n",
      "           1       0.51      0.51      0.51       931\n",
      "\n",
      "   micro avg       0.89      0.89      0.89      8238\n",
      "   macro avg       0.72      0.73      0.73      8238\n",
      "weighted avg       0.89      0.89      0.89      8238\n",
      "\n",
      "[[6849  458]\n",
      " [ 452  479]]\n"
     ]
    }
   ],
   "source": [
    "from sklearn.tree import DecisionTreeClassifier\n",
    "\n",
    "clf = DecisionTreeClassifier()\n",
    "\n",
    "clf.fit(X_train,y_train)\n",
    "\n",
    "y_pred = clf.predict(X_test)\n",
    "\n",
    "print(accuracy_score(y_pred,y_test))\n",
    "\n",
    "\n",
    "print(classification_report(y_pred,y_test))\n",
    "\n",
    "\n",
    "\n",
    "print(confusion_matrix(y_pred,y_test))\n",
    "\n"
   ]
  },
  {
   "cell_type": "markdown",
   "metadata": {},
   "source": [
    "# APPLYING SUPPORT VECTOR MACHINE"
   ]
  },
  {
   "cell_type": "code",
   "execution_count": 33,
   "metadata": {},
   "outputs": [
    {
     "name": "stderr",
     "output_type": "stream",
     "text": [
      "C:\\anacondapy\\lib\\site-packages\\sklearn\\utils\\validation.py:761: DataConversionWarning: A column-vector y was passed when a 1d array was expected. Please change the shape of y to (n_samples, ), for example using ravel().\n",
      "  y = column_or_1d(y, warn=True)\n",
      "C:\\anacondapy\\lib\\site-packages\\sklearn\\svm\\base.py:196: FutureWarning: The default value of gamma will change from 'auto' to 'scale' in version 0.22 to account better for unscaled features. Set gamma explicitly to 'auto' or 'scale' to avoid this warning.\n",
      "  \"avoid this warning.\", FutureWarning)\n"
     ]
    },
    {
     "name": "stdout",
     "output_type": "stream",
     "text": [
      "0.8865015780529255\n",
      "              precision    recall  f1-score   support\n",
      "\n",
      "           0       1.00      0.89      0.94      8226\n",
      "           1       0.01      0.58      0.01        12\n",
      "\n",
      "   micro avg       0.89      0.89      0.89      8238\n",
      "   macro avg       0.50      0.74      0.48      8238\n",
      "weighted avg       1.00      0.89      0.94      8238\n",
      "\n",
      "[[7296  930]\n",
      " [   5    7]]\n"
     ]
    }
   ],
   "source": [
    "from sklearn.svm import SVC\n",
    "\n",
    "clf = SVC()\n",
    "\n",
    "clf.fit(X_train,y_train)\n",
    "\n",
    "y_pred = clf.predict(X_test)\n",
    "\n",
    "print(accuracy_score(y_pred,y_test))\n",
    "\n",
    "\n",
    "print(classification_report(y_pred,y_test))\n",
    "\n",
    "\n",
    "\n",
    "print(confusion_matrix(y_pred,y_test))"
   ]
  }
 ],
 "metadata": {
  "kernelspec": {
   "display_name": "Python 3",
   "language": "python",
   "name": "python3"
  },
  "language_info": {
   "codemirror_mode": {
    "name": "ipython",
    "version": 3
   },
   "file_extension": ".py",
   "mimetype": "text/x-python",
   "name": "python",
   "nbconvert_exporter": "python",
   "pygments_lexer": "ipython3",
   "version": "3.7.3"
  }
 },
 "nbformat": 4,
 "nbformat_minor": 2
}
